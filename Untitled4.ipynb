{
  "nbformat": 4,
  "nbformat_minor": 0,
  "metadata": {
    "colab": {
      "name": "Untitled4.ipynb",
      "provenance": [],
      "authorship_tag": "ABX9TyPO6ntXBAxq4M9duc+8JA78",
      "include_colab_link": true
    },
    "kernelspec": {
      "name": "python3",
      "display_name": "Python 3"
    },
    "language_info": {
      "name": "python"
    }
  },
  "cells": [
    {
      "cell_type": "markdown",
      "metadata": {
        "id": "view-in-github",
        "colab_type": "text"
      },
      "source": [
        "<a href=\"https://colab.research.google.com/github/iopiop98012/2021_2_courses/blob/main/Untitled4.ipynb\" target=\"_parent\"><img src=\"https://colab.research.google.com/assets/colab-badge.svg\" alt=\"Open In Colab\"/></a>"
      ]
    },
    {
      "cell_type": "code",
      "source": [
        "import pandas as pd\n"
      ],
      "metadata": {
        "id": "Kbcs_alGuENf"
      },
      "execution_count": null,
      "outputs": []
    },
    {
      "cell_type": "code",
      "source": [
        "obj = pd.Series([2, -4, 6.0, True,  False])\n",
        "obj"
      ],
      "metadata": {
        "colab": {
          "base_uri": "https://localhost:8080/"
        },
        "id": "kyxJnfw_1MJA",
        "outputId": "30c096b4-3256-4938-c473-bc3b9f83b56b"
      },
      "execution_count": null,
      "outputs": [
        {
          "output_type": "execute_result",
          "data": {
            "text/plain": [
              "0        2\n",
              "1       -4\n",
              "2      6.0\n",
              "3     True\n",
              "4    False\n",
              "dtype: object"
            ]
          },
          "metadata": {},
          "execution_count": 6
        }
      ]
    },
    {
      "cell_type": "code",
      "source": [
        "obj.index"
      ],
      "metadata": {
        "colab": {
          "base_uri": "https://localhost:8080/"
        },
        "id": "SPjpfuRluKgk",
        "outputId": "40428110-06d1-4366-bd1f-4c793523ec32"
      },
      "execution_count": null,
      "outputs": [
        {
          "output_type": "execute_result",
          "data": {
            "text/plain": [
              "RangeIndex(start=0, stop=5, step=1)"
            ]
          },
          "metadata": {},
          "execution_count": 7
        }
      ]
    },
    {
      "cell_type": "code",
      "source": [
        "obj2 = pd.Series([2, -4, 6.0, True,  False], index=['嗨', 'hi', '5.0', '-5.0', 'False'])\n",
        "obj2"
      ],
      "metadata": {
        "colab": {
          "base_uri": "https://localhost:8080/"
        },
        "id": "iI-YKouUvYbr",
        "outputId": "415aa200-8b6f-48ed-82cf-9af1e208e89e"
      },
      "execution_count": null,
      "outputs": [
        {
          "output_type": "execute_result",
          "data": {
            "text/plain": [
              "嗨            2\n",
              "hi          -4\n",
              "5.0        6.0\n",
              "-5.0      True\n",
              "False    False\n",
              "dtype: object"
            ]
          },
          "metadata": {},
          "execution_count": 20
        }
      ]
    },
    {
      "cell_type": "code",
      "source": [
        "obj2.index"
      ],
      "metadata": {
        "colab": {
          "base_uri": "https://localhost:8080/"
        },
        "id": "_zUfgSSXw4z7",
        "outputId": "be4d99bd-4788-4ae3-d4a1-2123ee382ca3"
      },
      "execution_count": null,
      "outputs": [
        {
          "output_type": "execute_result",
          "data": {
            "text/plain": [
              "Index(['嗨', 'hi', '5.0', '-5.0', 'False'], dtype='object')"
            ]
          },
          "metadata": {},
          "execution_count": 22
        }
      ]
    },
    {
      "cell_type": "code",
      "source": [
        "obj2['hi']"
      ],
      "metadata": {
        "colab": {
          "base_uri": "https://localhost:8080/"
        },
        "id": "6AadBISoyKdU",
        "outputId": "00a2515d-88e9-4fa7-85af-6c8ba4c114fd"
      },
      "execution_count": null,
      "outputs": [
        {
          "output_type": "execute_result",
          "data": {
            "text/plain": [
              "-4"
            ]
          },
          "metadata": {},
          "execution_count": 23
        }
      ]
    },
    {
      "cell_type": "code",
      "source": [
        "obj2[obj2 > 0]"
      ],
      "metadata": {
        "colab": {
          "base_uri": "https://localhost:8080/"
        },
        "id": "h3gbXB_BydJN",
        "outputId": "a0acc28c-2afe-47e0-a15b-0f5ffd333111"
      },
      "execution_count": null,
      "outputs": [
        {
          "output_type": "execute_result",
          "data": {
            "text/plain": [
              "嗨          2\n",
              "5.0      6.0\n",
              "-5.0    True\n",
              "dtype: object"
            ]
          },
          "metadata": {},
          "execution_count": 33
        }
      ]
    },
    {
      "cell_type": "code",
      "source": [
        "'5.0' in obj2 "
      ],
      "metadata": {
        "colab": {
          "base_uri": "https://localhost:8080/"
        },
        "id": "SuEzQvYs0ain",
        "outputId": "5fb920c9-0e1d-402f-9ef5-e5f5fdf4511e"
      },
      "execution_count": null,
      "outputs": [
        {
          "output_type": "execute_result",
          "data": {
            "text/plain": [
              "True"
            ]
          },
          "metadata": {},
          "execution_count": 37
        }
      ]
    },
    {
      "cell_type": "code",
      "source": [
        "obj2 * 2"
      ],
      "metadata": {
        "colab": {
          "base_uri": "https://localhost:8080/"
        },
        "id": "MhW6hLq41J37",
        "outputId": "db947dfd-26c5-4849-b718-71e1858b8ace"
      },
      "execution_count": null,
      "outputs": [
        {
          "output_type": "execute_result",
          "data": {
            "text/plain": [
              "嗨           4\n",
              "hi         -8\n",
              "5.0      12.0\n",
              "-5.0        2\n",
              "False       0\n",
              "dtype: object"
            ]
          },
          "metadata": {},
          "execution_count": 38
        }
      ]
    },
    {
      "cell_type": "code",
      "source": [
        "obj2 = pd.Series([2, -4, 6.0, True,  False], index=['a', 'b', 'c', 'd', 'e'])\n",
        "obj2 * 2"
      ],
      "metadata": {
        "colab": {
          "base_uri": "https://localhost:8080/"
        },
        "id": "NVZ6iiPG1_Qv",
        "outputId": "975c5c29-ea00-4e15-bb65-43b3413312cb"
      },
      "execution_count": null,
      "outputs": [
        {
          "output_type": "execute_result",
          "data": {
            "text/plain": [
              "a       4\n",
              "b      -8\n",
              "c    12.0\n",
              "d       2\n",
              "e       0\n",
              "dtype: object"
            ]
          },
          "metadata": {},
          "execution_count": 40
        }
      ]
    },
    {
      "cell_type": "code",
      "source": [
        "'A' in obj2"
      ],
      "metadata": {
        "colab": {
          "base_uri": "https://localhost:8080/"
        },
        "id": "p98fEPbQ2J7a",
        "outputId": "d20dc886-299b-41b2-bada-219153e0342a"
      },
      "execution_count": null,
      "outputs": [
        {
          "output_type": "execute_result",
          "data": {
            "text/plain": [
              "False"
            ]
          },
          "metadata": {},
          "execution_count": 42
        }
      ]
    },
    {
      "cell_type": "code",
      "source": [
        "HoloEN = {'Gawr Gura': 3860000, 'Mori Calliope': 1980000, 'Watson Amelia': 1620000, 'Takanashi Kiara': 1340000, 'Ninomae Ina’nis': 1370000}\n",
        "HololiveEN = ['Gawr Gura', 'Mori Calliope', 'Watson Amelia', 'Takanashi Kiara','Ninomae Ina’nis','Peko']\n",
        "\n",
        "obj4 = pd.Series(HoloEN, index=HololiveEN)\n",
        "obj4"
      ],
      "metadata": {
        "colab": {
          "base_uri": "https://localhost:8080/"
        },
        "id": "4hjEJ40p77vz",
        "outputId": "9d23c2f1-98e0-4db5-ea78-0a6e2ebe3239"
      },
      "execution_count": null,
      "outputs": [
        {
          "output_type": "execute_result",
          "data": {
            "text/plain": [
              "Gawr Gura          3860000.0\n",
              "Mori Calliope      1980000.0\n",
              "Watson Amelia      1620000.0\n",
              "Takanashi Kiara    1340000.0\n",
              "Ninomae Ina’nis    1370000.0\n",
              "Peko                     NaN\n",
              "dtype: float64"
            ]
          },
          "metadata": {},
          "execution_count": 76
        }
      ]
    },
    {
      "cell_type": "code",
      "source": [
        "pd.isnull(obj4)"
      ],
      "metadata": {
        "colab": {
          "base_uri": "https://localhost:8080/"
        },
        "id": "32lCEF7MAAu6",
        "outputId": "6f2d83cd-e371-4d52-f565-355e2439fb5d"
      },
      "execution_count": null,
      "outputs": [
        {
          "output_type": "execute_result",
          "data": {
            "text/plain": [
              "Gawr Gura          False\n",
              "Mori Calliope      False\n",
              "Watson Amelia      False\n",
              "Takanashi Kiara    False\n",
              "Ninomae Ina’nis    False\n",
              "Peko                True\n",
              "dtype: bool"
            ]
          },
          "metadata": {},
          "execution_count": 77
        }
      ]
    },
    {
      "cell_type": "code",
      "source": [
        "pd.notnull(obj4)"
      ],
      "metadata": {
        "colab": {
          "base_uri": "https://localhost:8080/"
        },
        "id": "mbfGyjcUAW6A",
        "outputId": "ee1fc66e-5940-4bb5-b659-356952ba5206"
      },
      "execution_count": null,
      "outputs": [
        {
          "output_type": "execute_result",
          "data": {
            "text/plain": [
              "Gawr Gura           True\n",
              "Mori Calliope       True\n",
              "Watson Amelia       True\n",
              "Takanashi Kiara     True\n",
              "Ninomae Ina’nis     True\n",
              "Peko               False\n",
              "dtype: bool"
            ]
          },
          "metadata": {},
          "execution_count": 78
        }
      ]
    },
    {
      "cell_type": "code",
      "source": [
        "obj4.isnull()"
      ],
      "metadata": {
        "colab": {
          "base_uri": "https://localhost:8080/"
        },
        "id": "XMxCTt9SAlWh",
        "outputId": "f39e4b49-a8bb-494b-b6f0-9c8488e4a529"
      },
      "execution_count": null,
      "outputs": [
        {
          "output_type": "execute_result",
          "data": {
            "text/plain": [
              "Gawr Gura          False\n",
              "Mori Calliope      False\n",
              "Watson Amelia      False\n",
              "Takanashi Kiara    False\n",
              "Ninomae Ina’nis    False\n",
              "Peko                True\n",
              "dtype: bool"
            ]
          },
          "metadata": {},
          "execution_count": 79
        }
      ]
    },
    {
      "cell_type": "code",
      "source": [
        "obj3"
      ],
      "metadata": {
        "colab": {
          "base_uri": "https://localhost:8080/"
        },
        "id": "gbyf05u5A88q",
        "outputId": "e36eb508-17bc-41b3-f6a6-010ff076f873"
      },
      "execution_count": null,
      "outputs": [
        {
          "output_type": "execute_result",
          "data": {
            "text/plain": [
              "Ohio      35000\n",
              "Texas     71000\n",
              "Oregon    16000\n",
              "Utah       5000\n",
              "dtype: int64"
            ]
          },
          "metadata": {},
          "execution_count": 80
        }
      ]
    },
    {
      "cell_type": "code",
      "source": [
        "HoloEN = {'Gawr Gura': 3860000, 'Mori Calliope': 1980000, 'Watson Amelia': 1620000,\n",
        "'Takanashi Kiara': 1340000, 'Ninomae Ina’nis': 1370000}\n",
        "\n",
        "obj3 = pd.Series(HoloEN)\n",
        "obj3"
      ],
      "metadata": {
        "colab": {
          "base_uri": "https://localhost:8080/"
        },
        "id": "56GRPSkWBNUy",
        "outputId": "2c946023-4857-4fca-8933-021ddb15f910"
      },
      "execution_count": null,
      "outputs": [
        {
          "output_type": "execute_result",
          "data": {
            "text/plain": [
              "Gawr Gura          3860000\n",
              "Mori Calliope      1980000\n",
              "Watson Amelia      1620000\n",
              "Takanashi Kiara    1340000\n",
              "Ninomae Ina’nis    1370000\n",
              "dtype: int64"
            ]
          },
          "metadata": {},
          "execution_count": 82
        }
      ]
    },
    {
      "cell_type": "code",
      "source": [
        "obj4"
      ],
      "metadata": {
        "colab": {
          "base_uri": "https://localhost:8080/"
        },
        "id": "eb1jfS5xBWP4",
        "outputId": "bea1b730-7bdc-4e50-e3cb-16d80a56f0f8"
      },
      "execution_count": null,
      "outputs": [
        {
          "output_type": "execute_result",
          "data": {
            "text/plain": [
              "Gawr Gura          3860000.0\n",
              "Mori Calliope      1980000.0\n",
              "Watson Amelia      1620000.0\n",
              "Takanashi Kiara    1340000.0\n",
              "Ninomae Ina’nis    1370000.0\n",
              "Peko                     NaN\n",
              "dtype: float64"
            ]
          },
          "metadata": {},
          "execution_count": 84
        }
      ]
    },
    {
      "cell_type": "code",
      "source": [
        "obj3 + obj4"
      ],
      "metadata": {
        "colab": {
          "base_uri": "https://localhost:8080/"
        },
        "id": "OMbBb47ECXUB",
        "outputId": "0311d0e5-43ad-4c7b-ca0a-a196ff5b6562"
      },
      "execution_count": null,
      "outputs": [
        {
          "output_type": "execute_result",
          "data": {
            "text/plain": [
              "Gawr Gura          7720000.0\n",
              "Mori Calliope      3960000.0\n",
              "Ninomae Ina’nis    2740000.0\n",
              "Peko                     NaN\n",
              "Takanashi Kiara    2680000.0\n",
              "Watson Amelia      3240000.0\n",
              "dtype: float64"
            ]
          },
          "metadata": {},
          "execution_count": 85
        }
      ]
    },
    {
      "cell_type": "code",
      "source": [
        "obj4.name = 'Sora'\n",
        "\n",
        "obj4.index.name = 'Holo'\n",
        "\n",
        "obj4"
      ],
      "metadata": {
        "colab": {
          "base_uri": "https://localhost:8080/"
        },
        "id": "KXNetw-aCogN",
        "outputId": "097d9994-d6b1-4b9b-c396-d4d770e70137"
      },
      "execution_count": null,
      "outputs": [
        {
          "output_type": "execute_result",
          "data": {
            "text/plain": [
              "Holo\n",
              "Gawr Gura          3860000.0\n",
              "Mori Calliope      1980000.0\n",
              "Watson Amelia      1620000.0\n",
              "Takanashi Kiara    1340000.0\n",
              "Ninomae Ina’nis    1370000.0\n",
              "Peko                     NaN\n",
              "Name: Sora, dtype: float64"
            ]
          },
          "metadata": {},
          "execution_count": 91
        }
      ]
    },
    {
      "cell_type": "code",
      "source": [
        ""
      ],
      "metadata": {
        "id": "jOxLUU57C9jW"
      },
      "execution_count": null,
      "outputs": []
    },
    {
      "cell_type": "code",
      "source": [
        ""
      ],
      "metadata": {
        "id": "eycgSCEmEIz9"
      },
      "execution_count": null,
      "outputs": []
    }
  ]
}